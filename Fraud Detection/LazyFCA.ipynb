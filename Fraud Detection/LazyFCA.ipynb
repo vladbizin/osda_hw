{
 "cells": [
  {
   "cell_type": "code",
   "execution_count": 1,
   "metadata": {},
   "outputs": [],
   "source": [
    "import fcalc\n",
    "\n",
    "import pandas as pd\n",
    "import numpy as np\n",
    "\n",
    "from sklearn.model_selection import StratifiedKFold, train_test_split\n",
    "from sklearn.metrics import accuracy_score, f1_score"
   ]
  },
  {
   "cell_type": "markdown",
   "metadata": {},
   "source": [
    "Reading data"
   ]
  },
  {
   "cell_type": "code",
   "execution_count": 4,
   "metadata": {},
   "outputs": [],
   "source": [
    "all_data = pd.read_csv('creditcard_2023.csv')\n",
    "all_data.drop(columns = ['id'], inplace = True)\n",
    "# all_data, tmp = train_test_split(all_data, shuffle=True, random_state=42, stratify=all_data['Class'], train_size=0.005)"
   ]
  },
  {
   "cell_type": "markdown",
   "metadata": {},
   "source": [
    "Binarizing data"
   ]
  },
  {
   "cell_type": "code",
   "execution_count": 3,
   "metadata": {},
   "outputs": [],
   "source": [
    "num_cut = 5\n",
    "X, y = all_data.drop(columns = 'Class'), all_data['Class']\n",
    "for column in X.columns:\n",
    "    X[column] = pd.qcut(X[column], num_cut)"
   ]
  },
  {
   "cell_type": "code",
   "execution_count": 4,
   "metadata": {},
   "outputs": [],
   "source": [
    "X = pd.get_dummies(X)"
   ]
  },
  {
   "cell_type": "markdown",
   "metadata": {},
   "source": [
    "Assesing performance"
   ]
  },
  {
   "cell_type": "code",
   "execution_count": 5,
   "metadata": {},
   "outputs": [],
   "source": [
    "def cross_val_score(X, y, n_splits, scoring):\n",
    "    skf = StratifiedKFold(n_splits=n_splits, random_state=42, shuffle=True)\n",
    "    scores = np.zeros((len(scoring), skf.get_n_splits()))\n",
    "\n",
    "    for i, (train_index, test_index) in enumerate(skf.split(X, y)):\n",
    "        X_train, y_train = X.iloc[train_index], y.iloc[train_index]\n",
    "        X_test, y_test = X.iloc[test_index], y.iloc[test_index]\n",
    "\n",
    "        bin_cls = fcalc.classifier.BinarizedBinaryClassifier(X_train.values, y_train.values)\n",
    "        bin_cls.predict(X_test.values)\n",
    "\n",
    "        # we always classify non prediction as false prediction\n",
    "        tmp_predict = np.copy(bin_cls.predictions)\n",
    "        tmp_predict[tmp_predict == -1] = np.abs(y_test.values[tmp_predict == -1] - 1)\n",
    "\n",
    "        for j, score in enumerate(scoring):\n",
    "            scores[j, i] = score(y_test.values, tmp_predict)\n",
    "    \n",
    "    return scores.mean(1).round(3)\n"
   ]
  },
  {
   "cell_type": "code",
   "execution_count": null,
   "metadata": {},
   "outputs": [],
   "source": [
    "cross_val_score(X, y, 5, [accuracy_score, f1_score])"
   ]
  },
  {
   "cell_type": "markdown",
   "metadata": {},
   "source": [
    "array([0.787, 0.751])"
   ]
  }
 ],
 "metadata": {
  "kernelspec": {
   "display_name": "Python 3",
   "language": "python",
   "name": "python3"
  },
  "language_info": {
   "codemirror_mode": {
    "name": "ipython",
    "version": 3
   },
   "file_extension": ".py",
   "mimetype": "text/x-python",
   "name": "python",
   "nbconvert_exporter": "python",
   "pygments_lexer": "ipython3",
   "version": "3.11.5"
  }
 },
 "nbformat": 4,
 "nbformat_minor": 2
}
