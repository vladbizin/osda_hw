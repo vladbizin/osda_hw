{
 "cells": [
  {
   "cell_type": "code",
   "execution_count": 1,
   "metadata": {},
   "outputs": [],
   "source": [
    "import pandas as pd\n",
    "import numpy as np\n",
    "\n",
    "from fcalc.classifier import PatternBinaryClassifier\n",
    "\n",
    "from sklearn.model_selection import train_test_split, StratifiedKFold\n",
    "from sklearn.metrics import accuracy_score, f1_score\n",
    "\n",
    "from tqdm import tqdm"
   ]
  },
  {
   "cell_type": "code",
   "execution_count": 2,
   "metadata": {},
   "outputs": [],
   "source": [
    "def cross_val_score(method, alpha, X, y, n_splits, scoring):\n",
    "    skf = StratifiedKFold(n_splits=n_splits, random_state=42, shuffle=True)\n",
    "    scores = np.zeros((len(scoring), skf.get_n_splits()))\n",
    "\n",
    "    for i, (train_index, test_index) in enumerate(skf.split(X, y)):\n",
    "        X_train, y_train = X.iloc[train_index], y.iloc[train_index]\n",
    "        X_test, y_test = X.iloc[test_index], y.iloc[test_index]\n",
    "\n",
    "        categorical = np.arange(X_test.shape[1])[X_test.dtypes==\"object\"]\n",
    "        model = PatternBinaryClassifier(\n",
    "            X_train.values, y_train.values,\n",
    "            categorical=categorical,\n",
    "            method=method, alpha=alpha\n",
    "        )\n",
    "        model.predict(X_test.values)\n",
    "\n",
    "        # we always classify non prediction as false prediction\n",
    "        tmp_predict = np.copy(model.predictions)\n",
    "        tmp_predict[tmp_predict == -1] = np.abs(y_test.values[tmp_predict == -1] - 1)\n",
    "\n",
    "        for i, score in enumerate(scoring):\n",
    "            scores[i] = score(y_test.values, tmp_predict)\n",
    "    \n",
    "    return scores.mean(axis = 1).round(3)"
   ]
  },
  {
   "cell_type": "markdown",
   "metadata": {},
   "source": [
    "Reading data"
   ]
  },
  {
   "cell_type": "code",
   "execution_count": 7,
   "metadata": {},
   "outputs": [],
   "source": [
    "all_data = pd.read_csv('heart.csv')\n",
    "all_data['FastingBS'] = all_data['FastingBS'].astype('object')\n",
    "all_data, _ = train_test_split(all_data, train_size=0.5, stratify=all_data['HeartDisease'])\n",
    "X, y = all_data.drop(columns = 'HeartDisease').copy(), all_data['HeartDisease']"
   ]
  },
  {
   "cell_type": "markdown",
   "metadata": {},
   "source": [
    "CV grid search"
   ]
  },
  {
   "cell_type": "code",
   "execution_count": null,
   "metadata": {},
   "outputs": [],
   "source": [
    "GS = {}\n",
    "best_f1 = [-np.inf, [-1, -1]]\n",
    "best_acc = [-np.inf, [-1, -1]]\n",
    "for method in (\"standard\", \"standard-support\", \"ratio-support\"):\n",
    "    for alpha in np.linspace(0, 1, 11):\n",
    "        tqdm.write(method + \", alpha = \" + str(alpha))\n",
    "        scores = cross_val_score(method, alpha, X, y, 5, [f1_score, accuracy_score])\n",
    "        GS.setdefault(method, {})\n",
    "        GS[method].setdefault(alpha, scores)\n",
    "\n",
    "        if scores[0] >= best_f1[0]:\n",
    "            best_f1[1] = [method, alpha]\n",
    "            best_f1[0] = scores[0]\n",
    "\n",
    "        if scores[1] >= best_acc[0]:\n",
    "            best_acc[1] = [method, alpha]\n",
    "            best_acc[0] = scores[1]"
   ]
  },
  {
   "cell_type": "markdown",
   "metadata": {},
   "source": [
    "Standard, alpha = 0:  \n",
    "accuracy = 0.846   \n",
    "f1 = 0.857"
   ]
  },
  {
   "cell_type": "markdown",
   "metadata": {},
   "source": [
    "Recalculate cv scores on all data"
   ]
  },
  {
   "cell_type": "code",
   "execution_count": 3,
   "metadata": {},
   "outputs": [],
   "source": [
    "all_data = pd.read_csv('heart.csv')\n",
    "all_data['FastingBS'] = all_data['FastingBS'].astype('object')\n",
    "X, y = all_data.drop(columns = 'HeartDisease').copy(), all_data['HeartDisease']\n",
    "\n",
    "method, alpha = \"standard\", 0"
   ]
  },
  {
   "cell_type": "code",
   "execution_count": null,
   "metadata": {},
   "outputs": [],
   "source": [
    "scores = cross_val_score(method, alpha, X, y, 5, [f1_score, accuracy_score])"
   ]
  },
  {
   "cell_type": "markdown",
   "metadata": {},
   "source": [
    "Standard, alpha = 0:  \n",
    "accuracy = 0.847   \n",
    "f1 = 0.869"
   ]
  }
 ],
 "metadata": {
  "kernelspec": {
   "display_name": "Python 3",
   "language": "python",
   "name": "python3"
  },
  "language_info": {
   "codemirror_mode": {
    "name": "ipython",
    "version": 3
   },
   "file_extension": ".py",
   "mimetype": "text/x-python",
   "name": "python",
   "nbconvert_exporter": "python",
   "pygments_lexer": "ipython3",
   "version": "3.10.9"
  }
 },
 "nbformat": 4,
 "nbformat_minor": 2
}
