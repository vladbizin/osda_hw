{
 "cells": [
  {
   "cell_type": "code",
   "execution_count": 1,
   "metadata": {},
   "outputs": [],
   "source": [
    "import pandas as pd\n",
    "import numpy as np\n",
    "\n",
    "from fcalc.classifier import PatternBinaryClassifier\n",
    "\n",
    "from sklearn.model_selection import train_test_split, StratifiedKFold\n",
    "from sklearn.metrics import accuracy_score, f1_score\n",
    "\n",
    "from tqdm import tqdm"
   ]
  },
  {
   "cell_type": "code",
   "execution_count": 2,
   "metadata": {},
   "outputs": [],
   "source": [
    "def cross_val_score(method, alpha, X, y, n_splits, scoring):\n",
    "    skf = StratifiedKFold(n_splits=n_splits, random_state=42, shuffle=True)\n",
    "    scores = np.zeros((len(scoring), skf.get_n_splits()))\n",
    "\n",
    "    for i, (train_index, test_index) in enumerate(skf.split(X, y)):\n",
    "        X_train, y_train = X.iloc[train_index], y.iloc[train_index]\n",
    "        X_test, y_test = X.iloc[test_index], y.iloc[test_index]\n",
    "\n",
    "        categorical = np.arange(X_test.shape[1])[X_test.dtypes==\"object\"]\n",
    "        model = PatternBinaryClassifier(\n",
    "            X_train.values, y_train.values,\n",
    "            categorical=categorical,\n",
    "            method=method, alpha=alpha\n",
    "        )\n",
    "        model.predict(X_test.values)\n",
    "\n",
    "        # we always classify non prediction as false prediction\n",
    "        tmp_predict = np.copy(model.predictions)\n",
    "        tmp_predict[tmp_predict == -1] = np.abs(y_test.values[tmp_predict == -1] - 1)\n",
    "\n",
    "        for i, score in enumerate(scoring):\n",
    "            scores[i] = score(y_test.values, tmp_predict)\n",
    "    \n",
    "    return scores.mean(axis = 1).round(3)"
   ]
  },
  {
   "cell_type": "markdown",
   "metadata": {},
   "source": [
    "Reading data"
   ]
  },
  {
   "cell_type": "code",
   "execution_count": 7,
   "metadata": {},
   "outputs": [],
   "source": [
    "all_data = pd.read_csv('Credit_card.csv')\n",
    "labels = pd.read_csv('Credit_card_label.csv')\n",
    "all_data = pd.merge(all_data, labels, left_on='Ind_ID', right_on='Ind_ID')\n",
    "all_data.drop(columns = ['Ind_ID', 'Type_Occupation', 'Birthday_count', 'Mobile_phone', 'Work_Phone', 'Phone', 'EMAIL_ID'], inplace=True)\n",
    "all_data.dropna(inplace = True)\n",
    "all_data, tmp = train_test_split(all_data, shuffle=True, random_state=42, train_size=0.5, stratify=all_data['label'])\n",
    "X, y = all_data.drop(columns = 'label').copy(), all_data['label'].copy()"
   ]
  },
  {
   "cell_type": "markdown",
   "metadata": {},
   "source": [
    "CV grid search"
   ]
  },
  {
   "cell_type": "code",
   "execution_count": null,
   "metadata": {},
   "outputs": [],
   "source": [
    "GS = {}\n",
    "best_f1 = [-np.inf, [-1, -1]]\n",
    "best_acc = [-np.inf, [-1, -1]]\n",
    "for method in (\"standard\", \"standard-support\", \"ratio-support\"):\n",
    "    for alpha in np.linspace(0, 1, 11):\n",
    "        tqdm.write(method + \", alpha = \" + str(alpha))\n",
    "        scores = cross_val_score(method, alpha, X, y, 5, [f1_score, accuracy_score])\n",
    "        GS.setdefault(method, {})\n",
    "        GS[method].setdefault(alpha, scores)\n",
    "\n",
    "        if scores[0] >= best_f1[0]:\n",
    "            best_f1[1] = [method, alpha]\n",
    "            best_f1[0] = scores[0]\n",
    "\n",
    "        if scores[1] >= best_acc[0]:\n",
    "            best_acc[1] = [method, alpha]\n",
    "            best_acc[0] = scores[1]"
   ]
  },
  {
   "cell_type": "markdown",
   "metadata": {},
   "source": [
    "standard, alpha = 0   \n",
    "accuracy = 0.927  \n",
    "f1 = 0.522"
   ]
  },
  {
   "cell_type": "markdown",
   "metadata": {},
   "source": [
    "Recalculate cv scores on all data"
   ]
  },
  {
   "cell_type": "code",
   "execution_count": 12,
   "metadata": {},
   "outputs": [],
   "source": [
    "all_data = pd.read_csv('Credit_card.csv')\n",
    "labels = pd.read_csv('Credit_card_label.csv')\n",
    "all_data = pd.merge(all_data, labels, left_on='Ind_ID', right_on='Ind_ID')\n",
    "all_data.drop(columns = ['Ind_ID', 'Type_Occupation', 'Birthday_count', 'Mobile_phone', 'Work_Phone', 'Phone', 'EMAIL_ID'], inplace=True)\n",
    "all_data.dropna(inplace = True)\n",
    "X, y = all_data.drop(columns = 'label').copy(), all_data['label'].copy()\n",
    "\n",
    "method, alpha = \"standard\", 0"
   ]
  },
  {
   "cell_type": "code",
   "execution_count": 13,
   "metadata": {},
   "outputs": [
    {
     "name": "stderr",
     "output_type": "stream",
     "text": [
      "                                                         \r"
     ]
    }
   ],
   "source": [
    "scores = cross_val_score(method, alpha, X, y, 5, [f1_score, accuracy_score])"
   ]
  },
  {
   "cell_type": "code",
   "execution_count": 14,
   "metadata": {},
   "outputs": [
    {
     "data": {
      "text/plain": [
       "array([0.372, 0.911])"
      ]
     },
     "execution_count": 14,
     "metadata": {},
     "output_type": "execute_result"
    }
   ],
   "source": [
    "scores"
   ]
  },
  {
   "cell_type": "markdown",
   "metadata": {},
   "source": [
    "standard, alpha = 0  \n",
    "f1 = 0.372  \n",
    "accuracy = 0.911"
   ]
  }
 ],
 "metadata": {
  "kernelspec": {
   "display_name": "Python 3",
   "language": "python",
   "name": "python3"
  },
  "language_info": {
   "codemirror_mode": {
    "name": "ipython",
    "version": 3
   },
   "file_extension": ".py",
   "mimetype": "text/x-python",
   "name": "python",
   "nbconvert_exporter": "python",
   "pygments_lexer": "ipython3",
   "version": "3.11.5"
  }
 },
 "nbformat": 4,
 "nbformat_minor": 2
}
